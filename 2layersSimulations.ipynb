{
 "cells": [
  {
   "cell_type": "code",
   "execution_count": 1,
   "metadata": {},
   "outputs": [
    {
     "name": "stdout",
     "output_type": "stream",
     "text": [
      "done\n"
     ]
    }
   ],
   "source": [
    "import numpy as np\n",
    "import matplotlib.pyplot as plt\n",
    "import seaborn\n",
    "seaborn.set()\n",
    "import time\n",
    "from tqdm import tqdm\n",
    "from scipy.stats import pearsonr\n",
    "\n",
    "print('done')\n",
    "\n",
    "%load_ext autoreload\n",
    "%autoreload 2"
   ]
  },
  {
   "cell_type": "code",
   "execution_count": 2,
   "metadata": {},
   "outputs": [
    {
     "name": "stderr",
     "output_type": "stream",
     "text": [
      "C:\\Users\\Alexandra\\anaconda3\\lib\\site-packages\\torch\\cuda\\__init__.py:52: UserWarning: CUDA initialization: Found no NVIDIA driver on your system. Please check that you have an NVIDIA GPU and installed a driver from http://www.nvidia.com/Download/index.aspx (Triggered internally at  ..\\c10\\cuda\\CUDAFunctions.cpp:100.)\n",
      "  return torch._C._cuda_getDeviceCount() > 0\n"
     ]
    }
   ],
   "source": [
    "import torch\n",
    "# Check GPU availability\n",
    "use_gpu = torch.cuda.is_available()\n",
    "dtype = torch.cuda.FloatTensor if use_gpu \\\n",
    "        else torch.FloatTensor"
   ]
  },
  {
   "cell_type": "code",
   "execution_count": 3,
   "metadata": {},
   "outputs": [],
   "source": [
    "# small function to plot images\n",
    "def showTensor(aTensor, pos=111):\n",
    "    plt.subplot(int(pos))\n",
    "    plt.imshow(aTensor)    #,cmap='viridis')\n",
    "    plt.colorbar()\n",
    "    #plt.show()\n",
    "    plt.rcParams[\"axes.grid\"] = False"
   ]
  },
  {
   "cell_type": "code",
   "execution_count": 4,
   "metadata": {},
   "outputs": [],
   "source": [
    "# Functions to create complex tensors (ie, split real & img parts) + transfer between numpy and pytorch\n",
    "\n",
    "def to_complex_tensor(stuff):\n",
    "    # TO_COMPLEX_TENSOR transforms a complex nparray into a complex tensor\n",
    "    # The real and imaginary part are concatenated along the last dimension\n",
    "    \n",
    "    # Retrieve real and imaginary parts in separate tensors\n",
    "    stuff_r = torch.from_numpy(np.real(stuff)).type(dtype)\n",
    "    stuff_i = torch.from_numpy(np.imag(stuff)).type(dtype)\n",
    "    # Add a last dimension\n",
    "    stuff_r = torch.unsqueeze(stuff_r, dim=stuff_r.ndimension())\n",
    "    stuff_i = torch.unsqueeze(stuff_i, dim=stuff_i.ndimension())\n",
    "    # Return the concatenation\n",
    "    return torch.cat((stuff_r, stuff_i), dim=-1)\n",
    "\n",
    "def from_complex_tensor(stuff):\n",
    "    # FROM_COMPLEX_TENSOR transforms a complex tensor into a complex nparray\n",
    "    \n",
    "    # Retrieve real and imaginary parts in separate tensors\n",
    "    (stuff_r, stuff_i) = torch.chunk(stuff, 2, dim=-1)\n",
    "    # Convert to numpy\n",
    "    stuff_r = np.squeeze(stuff_r.cpu().detach().numpy())\n",
    "    stuff_i = np.squeeze(stuff_i.cpu().detach().numpy())\n",
    "    # Return the complex-valued nparray\n",
    "    return stuff_r + 1j * stuff_i"
   ]
  },
  {
   "cell_type": "code",
   "execution_count": 5,
   "metadata": {},
   "outputs": [],
   "source": [
    "# Functions to compute complex tensors (eg: tensor muliplication) which are not implemented in Pythorch\n",
    "\n",
    "def complex_matmul(a, b):\n",
    "    # COMPLEX_MATMUL computes a@b with a and b complex\n",
    "\n",
    "    # Retrieve real and imaginary parts in separate tensors\n",
    "    (a_r, a_i) = torch.chunk(a, 2, dim=-1)\n",
    "    (b_r, b_i) = torch.chunk(b, 2, dim=-1)\n",
    "    # Remove the last dimension\n",
    "    a_r = torch.squeeze(a_r)\n",
    "    a_i = torch.squeeze(a_i)\n",
    "    b_r = torch.squeeze(b_r)\n",
    "    b_i = torch.squeeze(b_i)\n",
    "    # Compute the multiplication\n",
    "    real_part = a_r @ b_r - a_i @ b_i\n",
    "    imag_part = a_i @ b_r + a_r @ b_i\n",
    "    # Return the concatenation\n",
    "    return torch.cat((real_part.unsqueeze_(-1), imag_part.unsqueeze_(-1)), dim=-1)\n",
    "#     return torch.cat((real_part[:, np.newaxis], imag_part[:, np.newaxis]), dim=-1)\n",
    "\n",
    "def complex_multiply(a, b):\n",
    "    # COMPLEX_MULTIPLY computes a*b with a and b complex\n",
    "\n",
    "    # Retrieve real and imaginary parts in separate tensors\n",
    "    (a_r, a_i) = torch.chunk(a, 2, dim=-1)\n",
    "    (b_r, b_i) = torch.chunk(b, 2, dim=-1)\n",
    "    # Remove the last dimension\n",
    "    a_r = torch.squeeze(a_r)\n",
    "    a_i = torch.squeeze(a_i)\n",
    "    b_r = torch.squeeze(b_r)\n",
    "    b_i = torch.squeeze(b_i)\n",
    "    # Compute the multiplication\n",
    "    real_part = a_r * b_r - a_i * b_i\n",
    "    imag_part = a_i * b_r + a_r * b_i\n",
    "    # Return the concatenation\n",
    "    return torch.cat((real_part.unsqueeze_(-1), imag_part.unsqueeze_(-1)), dim=-1)\n",
    "\n",
    "def complex_norm2(b):\n",
    "    # COMPLEX_NORM2 computes the L2 norm square of b\n",
    "    return torch.sum(b**2)"
   ]
  },
  {
   "cell_type": "code",
   "execution_count": 6,
   "metadata": {},
   "outputs": [],
   "source": [
    "def phase_to_complex(phi):\n",
    "    # PHASE_TO_COMPLEX transforms a real-valued tensor into a complex tensor\n",
    "    # Compute the real and imaginary parts in separate tensors    \n",
    "    stuff_r = torch.cos(phi)\n",
    "    stuff_i = torch.sin(phi)\n",
    "    # Add a last dimension\n",
    "    stuff_r = torch.unsqueeze(stuff_r, dim=stuff_r.ndimension())\n",
    "    stuff_i = torch.unsqueeze(stuff_i, dim=stuff_i.ndimension())\n",
    "    # Return the concatenation\n",
    "    return torch.cat((stuff_r, stuff_i), dim=-1)"
   ]
  },
  {
   "cell_type": "markdown",
   "metadata": {},
   "source": [
    "# Incoherent Process (eg: Fluorescence)"
   ]
  },
  {
   "cell_type": "markdown",
   "metadata": {},
   "source": [
    "### Forward Model"
   ]
  },
  {
   "cell_type": "code",
   "execution_count": 7,
   "metadata": {},
   "outputs": [],
   "source": [
    "Npat = 2000 # nb of patterns on the SLM\n",
    "Nslm = 256  # nb of SLM pixels\n",
    "Nfluo = 3   # nb of beads\n",
    "Ncam = 256  # nb of camera pixels\n",
    "\n",
    "T1 = np.random.randn(Nfluo,Nslm) +1j * np.random.randn(Nfluo,Nslm)\n",
    "T2 = abs(np.random.randn(Ncam,Nfluo))\n",
    "T1_t = to_complex_tensor(T1)\n",
    "T2_t = torch.from_numpy(T2).float()\n",
    "\n",
    "SLM_input = np.random.rand(Nslm, Npat) * 2 * np.pi\n",
    "SLM_input = torch.from_numpy(SLM_input).type(dtype)\n",
    "SLM_input_t = phase_to_complex(SLM_input)\n",
    "\n",
    "field1_t = complex_matmul(T1_t, SLM_input_t)\n",
    "int1_t = torch.sum(torch.abs(field1_t)**2,-1)\n",
    "CAM_output_t = T2_t@int1_t"
   ]
  },
  {
   "cell_type": "markdown",
   "metadata": {},
   "source": [
    "### Gradient Descent"
   ]
  },
  {
   "cell_type": "code",
   "execution_count": 8,
   "metadata": {},
   "outputs": [
    {
     "name": "stderr",
     "output_type": "stream",
     "text": [
      "100%|██████████| 1000/1000 [01:18<00:00, 12.73it/s]\n"
     ]
    }
   ],
   "source": [
    "## Initialization\n",
    "est_T1 = np.random.randn(Nfluo,Nslm) + 1j*np.random.randn(Nfluo,Nslm)\n",
    "est_T2 = abs(np.random.randn(Ncam,Nfluo))\n",
    "est_T1_t = to_complex_tensor(est_T1)\n",
    "est_T2_t = torch.from_numpy(est_T2).float()\n",
    "\n",
    "# Declare what are the parameters to optimize\n",
    "est_T1_t.requires_grad = True\n",
    "est_T2_t.requires_grad = True\n",
    "\n",
    "# other parameters\n",
    "n_iter = 1000\n",
    "loss_vec = np.zeros(n_iter)\n",
    "cc1_mean = np.zeros(n_iter)\n",
    "cc2_mean = np.zeros(n_iter)\n",
    "cc22_mean = np.zeros(n_iter)\n",
    "tau = 0.5\n",
    "c = 0.9\n",
    "\n",
    "for i_iter in tqdm(range(n_iter)):\n",
    "    # Estimation of camera image\n",
    "    est_field1_t = complex_matmul(est_T1_t, SLM_input_t)\n",
    "    est_int1_t = torch.sum(torch.abs(est_field1_t)**2,-1)\n",
    "    est_CAM_output_t = est_T2_t@est_int1_t\n",
    "    # Loss computation\n",
    "    loss = complex_norm2(est_CAM_output_t - CAM_output_t)\n",
    "    loss_vec[i_iter] = loss\n",
    "    # Gradient computation\n",
    "    loss.backward(retain_graph = True)\n",
    "    # Gradient descent with backtracking\n",
    "    lr0 = 1e-8\n",
    "    lr = lr0  # learning rate\n",
    "    with torch.no_grad():\n",
    "        m = - torch.norm(est_T1_t.grad)\n",
    "        while True:\n",
    "            # new estimate\n",
    "            new_est_T1_t = est_T1_t - lr * est_T1_t.grad\n",
    "            new_est_T2_t = abs(est_T2_t - lr * est_T2_t.grad) # T2 should be positive with Fluorescence\n",
    "            # new error with this new estimate\n",
    "            new_est_field1_t = complex_matmul(new_est_T1_t, SLM_input_t)\n",
    "            new_est_int1_t = torch.sum(torch.abs(new_est_field1_t)**2,-1)\n",
    "            new_est_CAM_output_t = new_est_T2_t@new_est_int1_t\n",
    "            new_loss = complex_norm2(new_est_CAM_output_t - CAM_output_t)\n",
    "            if loss - new_loss >= c * lr * m:\n",
    "                break\n",
    "            else:\n",
    "                lr *= tau\n",
    "                \n",
    "        est_T1_t -= lr * est_T1_t.grad\n",
    "        est_T2_t -= lr * est_T2_t.grad\n",
    "            \n",
    "    # Reset gradients\n",
    "    est_T1_t.grad.zero_()\n",
    "    est_T2_t.grad.zero_()\n",
    "    \n",
    "    # correlation matrix\n",
    "    r_T1 = from_complex_tensor(est_T1_t)\n",
    "    r_T2 = est_T2_t.detach().numpy()\n",
    "    corel1 = np.zeros((Nfluo , Nfluo),dtype=float)\n",
    "    corel2 = np.zeros((Nfluo , Nfluo),dtype=float)\n",
    "    corel22 = np.zeros((Nfluo , Nfluo),dtype=float)\n",
    "    for tt in  np.arange(0,Nfluo,1):\n",
    "        for jj in  np.arange(0,Nfluo,1):\n",
    "            corel1[tt,jj] = np.abs(np.conj(T1[tt,:]).T @ r_T1[jj,:]) / (np.linalg.norm(T1[tt,:])*np.linalg.norm(r_T1[jj,:]))\n",
    "            corel2[tt,jj] = np.abs(np.conj(T2[:,tt]).T @ r_T2[:,jj]) / (np.linalg.norm(T2[:,tt])*np.linalg.norm(r_T2[:,jj]))\n",
    "            corel22[tt,jj] = np.corrcoef(T2[:,tt],r_T2[:,jj])[1,0]\n",
    "            \n",
    "    cc1 = np.reshape( corel1 , (1, Nfluo*Nfluo))\n",
    "    idex = (-cc1).argsort()[:Nfluo]\n",
    "    cc1_mean[i_iter] = np.mean(cc1[0,idex[0,:Nfluo]])\n",
    "    cc2 = np.reshape( corel2 , (1, Nfluo*Nfluo))\n",
    "    idex = (-cc2).argsort()[:Nfluo]\n",
    "    cc2_mean[i_iter] = np.mean(cc2[0,idex[0,:Nfluo]])\n",
    "    cc22 = np.reshape( corel22 , (1, Nfluo*Nfluo))\n",
    "    idex = (-cc22).argsort()[:Nfluo]\n",
    "    cc22_mean[i_iter] = np.mean(cc22[0,idex[0,:Nfluo]])"
   ]
  },
  {
   "cell_type": "markdown",
   "metadata": {},
   "source": [
    "### Results"
   ]
  },
  {
   "cell_type": "code",
   "execution_count": 9,
   "metadata": {},
   "outputs": [
    {
     "name": "stdout",
     "output_type": "stream",
     "text": [
      "Learning Rate:   lr_init =  1e-08   -->  lr_final =  3.814697265625e-14\n",
      "Loss minimization:   loss_final / loss_ init  =   9.468561260772257e-14\n"
     ]
    },
    {
     "data": {
      "text/plain": [
       "Text(0, 0.5, 'Correl T2')"
      ]
     },
     "execution_count": 9,
     "metadata": {},
     "output_type": "execute_result"
    },
    {
     "data": {
      "image/png": "[encoded data removed]",
      "text/plain": [
       "<Figure size 432x288 with 1 Axes>"
      ]
     },
     "metadata": {},
     "output_type": "display_data"
    },
    {
     "data": {
      "image/png": "[encoded data removed]",
      "text/plain": [
       "<Figure size 432x288 with 1 Axes>"
      ]
     },
     "metadata": {},
     "output_type": "display_data"
    },
    {
     "data": {
      "image/png": "[encoded data removed]",
      "text/plain": [
       "<Figure size 432x288 with 1 Axes>"
      ]
     },
     "metadata": {},
     "output_type": "display_data"
    }
   ],
   "source": [
    "# How good is the reconstruction of the two TMs T1 (SLM <-> beads) and T2 (beads <-> CAM) ?\n",
    "\n",
    "print('Learning Rate:   lr_init = ', lr0, '  -->  lr_final = ', lr)\n",
    "print('Loss minimization:   loss_final / loss_ init  =  ', loss_vec[-1] / loss_vec[0])\n",
    "\n",
    "plt.figure()\n",
    "plt.plot(loss_vec)\n",
    "plt.xlabel('n_iter')\n",
    "plt.ylabel('GD loss')\n",
    "plt.figure()\n",
    "plt.plot(cc1_mean,'r')\n",
    "plt.xlabel('n_iter')\n",
    "plt.ylabel('Correl T1')\n",
    "plt.figure()\n",
    "plt.plot(cc22_mean,'g')\n",
    "plt.xlabel('n_iter')\n",
    "plt.ylabel('Correl T2')"
   ]
  }
 ],
 "metadata": {
  "kernelspec": {
   "display_name": "Python 3",
   "language": "python",
   "name": "python3"
  },
  "language_info": {
   "codemirror_mode": {
    "name": "ipython",
    "version": 3
   },
   "file_extension": ".py",
   "mimetype": "text/x-python",
   "name": "python",
   "nbconvert_exporter": "python",
   "pygments_lexer": "ipython3",
   "version": "3.8.3"
  }
 },
 "nbformat": 4,
 "nbformat_minor": 2
}
