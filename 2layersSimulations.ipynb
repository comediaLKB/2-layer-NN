{
 "cells": [
  {
   "cell_type": "code",
   "execution_count": 1,
   "metadata": {},
   "outputs": [
    {
     "name": "stdout",
     "output_type": "stream",
     "text": [
      "done\n"
     ]
    }
   ],
   "source": [
    "import numpy as np\n",
    "import matplotlib.pyplot as plt\n",
    "import seaborn\n",
    "seaborn.set()\n",
    "import time\n",
    "from tqdm import tqdm\n",
    "from scipy.stats import pearsonr\n",
    "\n",
    "print('done')\n",
    "\n",
    "%load_ext autoreload\n",
    "%autoreload 2"
   ]
  },
  {
   "cell_type": "code",
   "execution_count": 2,
   "metadata": {},
   "outputs": [
    {
     "name": "stderr",
     "output_type": "stream",
     "text": [
      "C:\\Users\\Alexandra\\anaconda3\\lib\\site-packages\\torch\\cuda\\__init__.py:52: UserWarning: CUDA initialization: Found no NVIDIA driver on your system. Please check that you have an NVIDIA GPU and installed a driver from http://www.nvidia.com/Download/index.aspx (Triggered internally at  ..\\c10\\cuda\\CUDAFunctions.cpp:100.)\n",
      "  return torch._C._cuda_getDeviceCount() > 0\n"
     ]
    }
   ],
   "source": [
    "import torch\n",
    "# Check GPU availability\n",
    "use_gpu = torch.cuda.is_available()\n",
    "dtype = torch.cuda.FloatTensor if use_gpu \\\n",
    "        else torch.FloatTensor"
   ]
  },
  {
   "cell_type": "code",
   "execution_count": 3,
   "metadata": {},
   "outputs": [],
   "source": [
    "# small function to plot images\n",
    "def showTensor(aTensor, pos=111):\n",
    "    plt.subplot(int(pos))\n",
    "    plt.imshow(aTensor)    #,cmap='viridis')\n",
    "    plt.colorbar()\n",
    "    #plt.show()\n",
    "    plt.rcParams[\"axes.grid\"] = False"
   ]
  },
  {
   "cell_type": "code",
   "execution_count": 4,
   "metadata": {},
   "outputs": [],
   "source": [
    "# Functions to create complex tensors (ie, split real & img parts) + transfer between numpy and pytorch\n",
    "\n",
    "def to_complex_tensor(stuff):\n",
    "    # TO_COMPLEX_TENSOR transforms a complex nparray into a complex tensor\n",
    "    # The real and imaginary part are concatenated along the last dimension\n",
    "    \n",
    "    # Retrieve real and imaginary parts in separate tensors\n",
    "    stuff_r = torch.from_numpy(np.real(stuff)).type(dtype)\n",
    "    stuff_i = torch.from_numpy(np.imag(stuff)).type(dtype)\n",
    "    # Add a last dimension\n",
    "    stuff_r = torch.unsqueeze(stuff_r, dim=stuff_r.ndimension())\n",
    "    stuff_i = torch.unsqueeze(stuff_i, dim=stuff_i.ndimension())\n",
    "    # Return the concatenation\n",
    "    return torch.cat((stuff_r, stuff_i), dim=-1)\n",
    "\n",
    "def from_complex_tensor(stuff):\n",
    "    # FROM_COMPLEX_TENSOR transforms a complex tensor into a complex nparray\n",
    "    \n",
    "    # Retrieve real and imaginary parts in separate tensors\n",
    "    (stuff_r, stuff_i) = torch.chunk(stuff, 2, dim=-1)\n",
    "    # Convert to numpy\n",
    "    stuff_r = np.squeeze(stuff_r.cpu().detach().numpy())\n",
    "    stuff_i = np.squeeze(stuff_i.cpu().detach().numpy())\n",
    "    # Return the complex-valued nparray\n",
    "    return stuff_r + 1j * stuff_i"
   ]
  },
  {
   "cell_type": "code",
   "execution_count": 5,
   "metadata": {},
   "outputs": [],
   "source": [
    "# Functions to compute complex tensors (eg: tensor muliplication) which are not implemented in Pythorch\n",
    "\n",
    "def complex_matmul(a, b):\n",
    "    # COMPLEX_MATMUL computes a@b with a and b complex\n",
    "\n",
    "    # Retrieve real and imaginary parts in separate tensors\n",
    "    (a_r, a_i) = torch.chunk(a, 2, dim=-1)\n",
    "    (b_r, b_i) = torch.chunk(b, 2, dim=-1)\n",
    "    # Remove the last dimension\n",
    "    a_r = torch.squeeze(a_r)\n",
    "    a_i = torch.squeeze(a_i)\n",
    "    b_r = torch.squeeze(b_r)\n",
    "    b_i = torch.squeeze(b_i)\n",
    "    # Compute the multiplication\n",
    "    real_part = a_r @ b_r - a_i @ b_i\n",
    "    imag_part = a_i @ b_r + a_r @ b_i\n",
    "    # Return the concatenation\n",
    "    return torch.cat((real_part.unsqueeze_(-1), imag_part.unsqueeze_(-1)), dim=-1)\n",
    "#     return torch.cat((real_part[:, np.newaxis], imag_part[:, np.newaxis]), dim=-1)\n",
    "\n",
    "def complex_multiply(a, b):\n",
    "    # COMPLEX_MULTIPLY computes a*b with a and b complex\n",
    "\n",
    "    # Retrieve real and imaginary parts in separate tensors\n",
    "    (a_r, a_i) = torch.chunk(a, 2, dim=-1)\n",
    "    (b_r, b_i) = torch.chunk(b, 2, dim=-1)\n",
    "    # Remove the last dimension\n",
    "    a_r = torch.squeeze(a_r)\n",
    "    a_i = torch.squeeze(a_i)\n",
    "    b_r = torch.squeeze(b_r)\n",
    "    b_i = torch.squeeze(b_i)\n",
    "    # Compute the multiplication\n",
    "    real_part = a_r * b_r - a_i * b_i\n",
    "    imag_part = a_i * b_r + a_r * b_i\n",
    "    # Return the concatenation\n",
    "    return torch.cat((real_part.unsqueeze_(-1), imag_part.unsqueeze_(-1)), dim=-1)\n",
    "\n",
    "def complex_norm2(b):\n",
    "    # COMPLEX_NORM2 computes the L2 norm square of b\n",
    "    return torch.sum(b**2)"
   ]
  },
  {
   "cell_type": "code",
   "execution_count": 6,
   "metadata": {},
   "outputs": [],
   "source": [
    "def phase_to_complex(phi):\n",
    "    # PHASE_TO_COMPLEX transforms a real-valued tensor into a complex tensor\n",
    "    # Compute the real and imaginary parts in separate tensors    \n",
    "    stuff_r = torch.cos(phi)\n",
    "    stuff_i = torch.sin(phi)\n",
    "    # Add a last dimension\n",
    "    stuff_r = torch.unsqueeze(stuff_r, dim=stuff_r.ndimension())\n",
    "    stuff_i = torch.unsqueeze(stuff_i, dim=stuff_i.ndimension())\n",
    "    # Return the concatenation\n",
    "    return torch.cat((stuff_r, stuff_i), dim=-1)"
   ]
  },
  {
   "cell_type": "markdown",
   "metadata": {},
   "source": [
    "# Incoherent Process (eg: Fluorescence)"
   ]
  },
  {
   "cell_type": "markdown",
   "metadata": {},
   "source": [
    "### Forward Model"
   ]
  },
  {
   "cell_type": "code",
   "execution_count": 7,
   "metadata": {},
   "outputs": [],
   "source": [
    "Npat = 2000 # nb of patterns on the SLM\n",
    "Nslm = 256  # nb of SLM pixels\n",
    "Nfluo = 3   # nb of beads\n",
    "Ncam = 256  # nb of camera pixels\n",
    "\n",
    "T1 = np.random.randn(Nfluo,Nslm) +1j * np.random.randn(Nfluo,Nslm)\n",
    "T2 = abs(np.random.randn(Ncam,Nfluo))\n",
    "T1_t = to_complex_tensor(T1)\n",
    "T2_t = torch.from_numpy(T2).float()\n",
    "\n",
    "SLM_input = np.random.rand(Nslm, Npat) * 2 * np.pi\n",
    "SLM_input = torch.from_numpy(SLM_input).type(dtype)\n",
    "SLM_input_t = phase_to_complex(SLM_input)\n",
    "\n",
    "field1_t = complex_matmul(T1_t, SLM_input_t)\n",
    "int1_t = torch.sum(torch.abs(field1_t)**2,-1)\n",
    "CAM_output_t = T2_t@int1_t"
   ]
  },
  {
   "cell_type": "markdown",
   "metadata": {},
   "source": [
    "### Gradient Descent"
   ]
  },
  {
   "cell_type": "code",
   "execution_count": 8,
   "metadata": {},
   "outputs": [
    {
     "name": "stderr",
     "output_type": "stream",
     "text": [
      "100%|██████████| 1000/1000 [01:18<00:00, 12.73it/s]\n"
     ]
    }
   ],
   "source": [
    "## Initialization\n",
    "est_T1 = np.random.randn(Nfluo,Nslm) + 1j*np.random.randn(Nfluo,Nslm)\n",
    "est_T2 = abs(np.random.randn(Ncam,Nfluo))\n",
    "est_T1_t = to_complex_tensor(est_T1)\n",
    "est_T2_t = torch.from_numpy(est_T2).float()\n",
    "\n",
    "# Declare what are the parameters to optimize\n",
    "est_T1_t.requires_grad = True\n",
    "est_T2_t.requires_grad = True\n",
    "\n",
    "# other parameters\n",
    "n_iter = 1000\n",
    "loss_vec = np.zeros(n_iter)\n",
    "cc1_mean = np.zeros(n_iter)\n",
    "cc2_mean = np.zeros(n_iter)\n",
    "cc22_mean = np.zeros(n_iter)\n",
    "tau = 0.5\n",
    "c = 0.9\n",
    "\n",
    "for i_iter in tqdm(range(n_iter)):\n",
    "    # Estimation of camera image\n",
    "    est_field1_t = complex_matmul(est_T1_t, SLM_input_t)\n",
    "    est_int1_t = torch.sum(torch.abs(est_field1_t)**2,-1)\n",
    "    est_CAM_output_t = est_T2_t@est_int1_t\n",
    "    # Loss computation\n",
    "    loss = complex_norm2(est_CAM_output_t - CAM_output_t)\n",
    "    loss_vec[i_iter] = loss\n",
    "    # Gradient computation\n",
    "    loss.backward(retain_graph = True)\n",
    "    # Gradient descent with backtracking\n",
    "    lr0 = 1e-8\n",
    "    lr = lr0  # learning rate\n",
    "    with torch.no_grad():\n",
    "        m = - torch.norm(est_T1_t.grad)\n",
    "        while True:\n",
    "            # new estimate\n",
    "            new_est_T1_t = est_T1_t - lr * est_T1_t.grad\n",
    "            new_est_T2_t = abs(est_T2_t - lr * est_T2_t.grad) # T2 should be positive with Fluorescence\n",
    "            # new error with this new estimate\n",
    "            new_est_field1_t = complex_matmul(new_est_T1_t, SLM_input_t)\n",
    "            new_est_int1_t = torch.sum(torch.abs(new_est_field1_t)**2,-1)\n",
    "            new_est_CAM_output_t = new_est_T2_t@new_est_int1_t\n",
    "            new_loss = complex_norm2(new_est_CAM_output_t - CAM_output_t)\n",
    "            if loss - new_loss >= c * lr * m:\n",
    "                break\n",
    "            else:\n",
    "                lr *= tau\n",
    "                \n",
    "        est_T1_t -= lr * est_T1_t.grad\n",
    "        est_T2_t -= lr * est_T2_t.grad\n",
    "            \n",
    "    # Reset gradients\n",
    "    est_T1_t.grad.zero_()\n",
    "    est_T2_t.grad.zero_()\n",
    "    \n",
    "    # correlation matrix\n",
    "    r_T1 = from_complex_tensor(est_T1_t)\n",
    "    r_T2 = est_T2_t.detach().numpy()\n",
    "    corel1 = np.zeros((Nfluo , Nfluo),dtype=float)\n",
    "    corel2 = np.zeros((Nfluo , Nfluo),dtype=float)\n",
    "    corel22 = np.zeros((Nfluo , Nfluo),dtype=float)\n",
    "    for tt in  np.arange(0,Nfluo,1):\n",
    "        for jj in  np.arange(0,Nfluo,1):\n",
    "            corel1[tt,jj] = np.abs(np.conj(T1[tt,:]).T @ r_T1[jj,:]) / (np.linalg.norm(T1[tt,:])*np.linalg.norm(r_T1[jj,:]))\n",
    "            corel2[tt,jj] = np.abs(np.conj(T2[:,tt]).T @ r_T2[:,jj]) / (np.linalg.norm(T2[:,tt])*np.linalg.norm(r_T2[:,jj]))\n",
    "            corel22[tt,jj] = np.corrcoef(T2[:,tt],r_T2[:,jj])[1,0]\n",
    "            \n",
    "    cc1 = np.reshape( corel1 , (1, Nfluo*Nfluo))\n",
    "    idex = (-cc1).argsort()[:Nfluo]\n",
    "    cc1_mean[i_iter] = np.mean(cc1[0,idex[0,:Nfluo]])\n",
    "    cc2 = np.reshape( corel2 , (1, Nfluo*Nfluo))\n",
    "    idex = (-cc2).argsort()[:Nfluo]\n",
    "    cc2_mean[i_iter] = np.mean(cc2[0,idex[0,:Nfluo]])\n",
    "    cc22 = np.reshape( corel22 , (1, Nfluo*Nfluo))\n",
    "    idex = (-cc22).argsort()[:Nfluo]\n",
    "    cc22_mean[i_iter] = np.mean(cc22[0,idex[0,:Nfluo]])"
   ]
  },
  {
   "cell_type": "markdown",
   "metadata": {},
   "source": [
    "### Results"
   ]
  },
  {
   "cell_type": "code",
   "execution_count": 9,
   "metadata": {},
   "outputs": [
    {
     "name": "stdout",
     "output_type": "stream",
     "text": [
      "Learning Rate:   lr_init =  1e-08   -->  lr_final =  3.814697265625e-14\n",
      "Loss minimization:   loss_final / loss_ init  =   9.468561260772257e-14\n"
     ]
    },
    {
     "data": {
      "text/plain": [
       "Text(0, 0.5, 'Correl T2')"
      ]
     },
     "execution_count": 9,
     "metadata": {},
     "output_type": "execute_result"
    },
    {
     "data": {
      "image/png": "[encoded data removed]",
      "text/plain": [
       "<Figure size 432x288 with 1 Axes>"
      ]
     },
     "metadata": {},
     "output_type": "display_data"
    },
    {
     "data": {
      "image/png": "[encoded data removed]",
      "text/plain": [
       "<Figure size 432x288 with 1 Axes>"
      ]
     },
     "metadata": {},
     "output_type": "display_data"
    },
    {
     "data": {
      "image/png": "[encoded data removed]",
      "text/plain": [
       "<Figure size 432x288 with 1 Axes>"
      ]
     },
     "metadata": {},
     "output_type": "display_data"
    }
   ],
   "source": [
    "# How good is the reconstruction of the two TMs T1 (SLM <-> beads) and T2 (beads <-> CAM) ?\n",
    "\n",
    "print('Learning Rate:   lr_init = ', lr0, '  -->  lr_final = ', lr)\n",
    "print('Loss minimization:   loss_final / loss_ init  =  ', loss_vec[-1] / loss_vec[0])\n",
    "\n",
    "plt.figure()\n",
    "plt.plot(loss_vec)\n",
    "plt.xlabel('n_iter')\n",
    "plt.ylabel('GD loss')\n",
    "plt.figure()\n",
    "plt.plot(cc1_mean,'r')\n",
    "plt.xlabel('n_iter')\n",
    "plt.ylabel('Correl T1')\n",
    "plt.figure()\n",
    "plt.plot(cc22_mean,'g')\n",
    "plt.xlabel('n_iter')\n",
    "plt.ylabel('Correl T2')"
   ]
  },
  {
   "cell_type": "markdown",
   "metadata": {},
   "source": [
    "# Coherent Process (eg: SHG)"
   ]
  },
  {
   "cell_type": "markdown",
   "metadata": {},
   "source": [
    "### Forward model"
   ]
  },
  {
   "cell_type": "code",
   "execution_count": 11,
   "metadata": {},
   "outputs": [],
   "source": [
    "Npat = 2000\n",
    "Nslm = 256\n",
    "Nfluo = 3\n",
    "Ncam = 256\n",
    "\n",
    "T1 = np.random.randn(Nfluo,Nslm) +1j * np.random.randn(Nfluo,Nslm)\n",
    "T2 = np.random.randn(Ncam,Nfluo) +1j * np.random.randn(Ncam,Nfluo)\n",
    "T1_t = to_complex_tensor(T1)\n",
    "T2_t = to_complex_tensor(T2)\n",
    "\n",
    "SLM_input = np.random.rand(Nslm, Npat) * 2 * np.pi\n",
    "SLM_input = torch.from_numpy(SLM_input).type(dtype)\n",
    "SLM_input_t = phase_to_complex(SLM_input)\n",
    "\n",
    "field1_t = complex_matmul(T1_t, SLM_input_t)\n",
    "shg_exc_t = complex_multiply(field1_t, field1_t)\n",
    "CAM_field_t = complex_matmul(T2_t, shg_exc_t)\n",
    "CAM_output_t = torch.sum(torch.abs(CAM_field_t)**2, -1)"
   ]
  },
  {
   "cell_type": "markdown",
   "metadata": {},
   "source": [
    "### Gradient descent"
   ]
  },
  {
   "cell_type": "code",
   "execution_count": 12,
   "metadata": {},
   "outputs": [
    {
     "name": "stderr",
     "output_type": "stream",
     "text": [
      "100%|██████████| 1000/1000 [12:23<00:00,  1.35it/s]\n"
     ]
    }
   ],
   "source": [
    "## Initialization\n",
    "est_T1 = np.random.randn(Nfluo,Nslm) + 1j*np.random.randn(Nfluo,Nslm)\n",
    "est_T2 = np.random.randn(Ncam,Nfluo) + 1j*np.random.randn(Ncam,Nfluo)\n",
    "est_T1_t = to_complex_tensor(est_T1)\n",
    "est_T2_t = to_complex_tensor(est_T2)\n",
    "# Declare what are the parameters to optimize\n",
    "est_T1_t.requires_grad = True\n",
    "est_T2_t.requires_grad = True\n",
    "\n",
    "# other parameters\n",
    "n_iter = 1000\n",
    "loss_vec = np.zeros(n_iter)\n",
    "cc1_mean = np.zeros(n_iter)\n",
    "cc2_mean = np.zeros(n_iter)\n",
    "tau = 0.5\n",
    "c = 0.9\n",
    "\n",
    "for i_iter in tqdm(range(n_iter)):\n",
    "    # Estimation of camera image\n",
    "    est_field1_t = complex_matmul(est_T1_t, SLM_input_t)\n",
    "    est_shg_exc_t = complex_multiply(est_field1_t, est_field1_t)\n",
    "    est_CAM_field_t = complex_matmul(est_T2_t, est_shg_exc_t)\n",
    "#    est_CAM_field_t = complex_matmul(est_T2_t, est_field1_t)\n",
    "    est_CAM_output_t = torch.sum(torch.abs(est_CAM_field_t)**2, -1)\n",
    "\n",
    "    # Loss computation\n",
    "    loss = complex_norm2(est_CAM_output_t - CAM_output_t)\n",
    "    loss_vec[i_iter] = loss\n",
    "    # Gradient computation\n",
    "    loss.backward(retain_graph = True)\n",
    "    # Gradient descent with backtracking\n",
    "    lr0 = 1e-8\n",
    "    lr = lr0  # learning rate\n",
    "    with torch.no_grad():\n",
    "        m = - torch.norm(est_T2_t.grad)\n",
    "        while True:\n",
    "            # new estimate\n",
    "            new_est_T1_t = est_T1_t - lr * est_T1_t.grad\n",
    "            new_est_T2_t = est_T2_t - lr * est_T2_t.grad\n",
    "            # new error with this new estimate\n",
    "            new_est_field1_t = complex_matmul(new_est_T1_t, SLM_input_t)\n",
    "            new_est_shg_exc_t = complex_multiply(new_est_field1_t, new_est_field1_t)\n",
    "            new_est_CAM_field_t = complex_matmul(new_est_T2_t, new_est_shg_exc_t)\n",
    "            new_est_CAM_output_t = torch.sum(torch.abs(new_est_CAM_field_t)**2, -1)\n",
    "            new_loss = complex_norm2(new_est_CAM_output_t - CAM_output_t)\n",
    "            if loss - new_loss >= c * lr * m:\n",
    "                #est_T1_t = new_est_T1_t\n",
    "                break\n",
    "            else:\n",
    "                lr *= tau\n",
    "                \n",
    "        est_T1_t -= lr * est_T1_t.grad\n",
    "        est_T2_t -= lr * est_T2_t.grad\n",
    "            \n",
    "    # Reset gradients\n",
    "    est_T1_t.grad.zero_()\n",
    "    est_T2_t.grad.zero_()\n",
    "    \n",
    "    # correlation matrix\n",
    "    r_T1 = from_complex_tensor(est_T1_t)\n",
    "    r_T2 = from_complex_tensor(est_T2_t)\n",
    "    corel1 = np.zeros((Nfluo , Nfluo),dtype=float)\n",
    "    corel2 = np.zeros((Nfluo , Nfluo),dtype=float)\n",
    "    for tt in  np.arange(0,Nfluo,1):\n",
    "        for jj in  np.arange(0,Nfluo,1):\n",
    "            corel1[tt,jj] = np.abs(np.conj(T1[tt,:]).T @ r_T1[jj,:]) / (np.linalg.norm(T1[tt,:])*np.linalg.norm(r_T1[jj,:]))\n",
    "            corel2[tt,jj] = np.abs(np.conj(T2[:,tt]).T @ r_T2[:,jj]) / (np.linalg.norm(T2[:,tt])*np.linalg.norm(r_T2[:,jj]))\n",
    "            \n",
    "    cc1 = np.reshape( corel1 , (1, Nfluo*Nfluo))\n",
    "    idex = (-cc1).argsort()[:Nfluo]\n",
    "    cc1_mean[i_iter] = np.mean(cc1[0,idex[0,:Nfluo]])\n",
    "    cc2 = np.reshape( corel2 , (1, Nfluo*Nfluo))\n",
    "    idex = (-cc2).argsort()[:Nfluo]\n",
    "    cc2_mean[i_iter] = np.mean(cc2[0,idex[0,:Nfluo]])"
   ]
  },
  {
   "cell_type": "markdown",
   "metadata": {
    "scrolled": true
   },
   "source": [
    "### Results"
   ]
  },
  {
   "cell_type": "code",
   "execution_count": 25,
   "metadata": {
    "scrolled": false
   },
   "outputs": [
    {
     "name": "stdout",
     "output_type": "stream",
     "text": [
      "lr_init =  1e-08   -->  lr_final =  5.820766091346741e-19\n",
      "loss_final / loss_ init  =   1.9395574026100358e-13\n"
     ]
    },
    {
     "data": {
      "text/plain": [
       "Text(0, 0.5, 'Correl T2')"
      ]
     },
     "execution_count": 25,
     "metadata": {},
     "output_type": "execute_result"
    },
    {
     "data": {
      "image/png": "[encoded data removed]",
      "text/plain": [
       "<Figure size 432x288 with 1 Axes>"
      ]
     },
     "metadata": {},
     "output_type": "display_data"
    },
    {
     "data": {
      "image/png": "[encoded data removed]",
      "text/plain": [
       "<Figure size 432x288 with 1 Axes>"
      ]
     },
     "metadata": {},
     "output_type": "display_data"
    },
    {
     "data": {
      "image/png": "[encoded data removed]",
      "text/plain": [
       "<Figure size 432x288 with 1 Axes>"
      ]
     },
     "metadata": {},
     "output_type": "display_data"
    }
   ],
   "source": [
    "# How good is the reconstruction of the two TMs T1 (SLM <-> beads) and T2 (beads <-> CAM) ?\n",
    "\n",
    "print('lr_init = ', lr0, '  -->  lr_final = ', lr)\n",
    "print('loss_final / loss_ init  =  ', loss_vec[-1] / loss_vec[0])\n",
    "\n",
    "plt.figure()\n",
    "plt.plot(loss_vec)\n",
    "plt.xlabel('n_iter')\n",
    "plt.ylabel('GD loss')\n",
    "plt.figure()\n",
    "plt.plot(cc1_mean,'r')\n",
    "plt.xlabel('n_iter')\n",
    "plt.ylabel('Correl T1')\n",
    "plt.figure()\n",
    "plt.plot(cc2_mean,'g')\n",
    "plt.xlabel('n_iter')\n",
    "plt.ylabel('Correl T2')"
   ]
  },
  {
   "cell_type": "code",
   "execution_count": 26,
   "metadata": {},
   "outputs": [
    {
     "name": "stdout",
     "output_type": "stream",
     "text": [
      "torch.Size([3, 100, 2])\n",
      "torch.Size([100, 1000, 2])\n",
      "torch.Size([3, 1000, 2])\n",
      "torch.Size([3, 1000, 2])\n",
      "torch.Size([100, 1000, 2])\n",
      "torch.Size([100, 1000])\n",
      "tensor([[-13.2166,   5.4530],\n",
      "        [-14.4444,   5.4275],\n",
      "        [ -5.0936, -12.8029]], grad_fn=<SliceBackward>)\n",
      "tensor([[ 144.9427, -144.1414],\n",
      "        [ 179.1835, -156.7934],\n",
      "        [-137.9703,  130.4254]], grad_fn=<SliceBackward>)\n",
      "tensor([[[ 144.9427, -144.1414]],\n",
      "\n",
      "        [[ 179.1835, -156.7934]],\n",
      "\n",
      "        [[-137.9703,  130.4254]]], grad_fn=<CatBackward>)\n",
      "tensor([[ 144.9427, -144.1414],\n",
      "        [ 179.1835, -156.7934],\n",
      "        [-137.9703,  130.4254]], grad_fn=<CatBackward>)\n",
      "tensor([432117.9688,  22490.0957])\n",
      "tensor(454608.0625)\n"
     ]
    }
   ],
   "source": [
    "print(est_T1_t.shape)\n",
    "print(SLM_input_t.shape)\n",
    "print(est_field1_t.shape)\n",
    "print(est_shg_exc_t.shape)\n",
    "print(est_CAM_field_t.shape)\n",
    "print(est_CAM_output_t.shape)\n",
    "\n",
    "print(est_field1_t[:,0,:])\n",
    "print(est_shg_exc_t[:,0,:])\n",
    "\n",
    "(a_r, a_i) = torch.chunk(est_field1_t[:,0,:], 2, dim=-1)\n",
    "real_part = a_r * a_r - a_i * a_i\n",
    "imag_part = a_i * a_r + a_r * a_i\n",
    "A = torch.cat((real_part.unsqueeze_(-1), imag_part.unsqueeze_(-1)), dim=-1)\n",
    "B = complex_multiply(est_field1_t[:,0,:],est_field1_t[:,0,:])\n",
    "print(A)\n",
    "print(B)\n",
    "\n",
    "CAM_field_t = complex_matmul(T2_t, shg_exc_t)\n",
    "CAM_output_t = torch.sum(torch.abs(CAM_field_t)**2, -1)\n",
    "print(torch.abs(CAM_field_t[1,0,:])**2)\n",
    "print(torch.sum(torch.abs(CAM_field_t[1,0,:])**2,-1))"
   ]
  },
  {
   "cell_type": "markdown",
   "metadata": {},
   "source": [
    "# Debugging "
   ]
  },
  {
   "cell_type": "code",
   "execution_count": 27,
   "metadata": {},
   "outputs": [
    {
     "name": "stdout",
     "output_type": "stream",
     "text": [
      "tensor(1.7189e+17)\n",
      "tensor(21816460., grad_fn=<SumBackward0>)\n"
     ]
    }
   ],
   "source": [
    "# Estimation\n",
    "est_T1 = np.random.randn(Nfluo,Nslm)+1j*np.random.randn(Nfluo,Nslm)\n",
    "est_T2 = np.random.randn(Ncam,Nfluo)+1j*np.random.randn(Ncam,Nfluo)\n",
    "\n",
    "est_T1_t = to_complex_tensor(est_T1)\n",
    "est_T2_t = to_complex_tensor(est_T2)\n",
    "\n",
    "# Estimation of camera image\n",
    "est_field1_t = complex_matmul(est_T1_t, SLM_input_t)\n",
    "est_shg_exc_t = complex_multiply(est_field1_t, est_field1_t)\n",
    "#est_shg_exc_t = complex_multiply(est_field1_t, est_shg_exc_t)\n",
    "est_CAM_field_t = complex_matmul(est_T2_t, est_shg_exc_t)\n",
    "est_CAM_output_t = torch.sum(est_CAM_field_t**2, -1)\n",
    "\n",
    "# Loss computation\n",
    "loss = complex_norm2(est_CAM_output_t - CAM_output_t)\n",
    "print(loss)\n",
    "\n",
    "# Declare what are the parameters to optimize\n",
    "est_T1_t.requires_grad = True\n",
    "est_T2_t.requires_grad = True\n",
    "\n",
    "lr = 0.2\n",
    "n_iter = 10000\n",
    "to_optimize = [est_T1_t, est_T2_t]\n",
    "optimizer = torch.optim.LBFGS(to_optimize, lr=lr, max_iter=n_iter, history_size=10)\n",
    "\n",
    "\n",
    "def closure():\n",
    "    # Estimation of camera image\n",
    "    est_field1_t = complex_matmul(est_T1_t, SLM_input_t)\n",
    "    est_shg_exc_t = complex_multiply(est_field1_t, est_field1_t)\n",
    "    #est_shg_exc_t = complex_multiply(est_field1_t, est_shg_exc_t)\n",
    "    est_CAM_field_t = complex_matmul(est_T2_t, est_shg_exc_t)\n",
    "    est_CAM_output_t = torch.sum(est_CAM_field_t**2, -1)\n",
    "\n",
    "    # Loss computation\n",
    "    loss = complex_norm2(est_CAM_output_t - CAM_output_t)\n",
    "    # Gradient computation\n",
    "    optimizer.zero_grad()\n",
    "    loss.backward(retain_graph = True)\n",
    "    return loss\n",
    "\n",
    "optimizer.step(closure)\n",
    "\n",
    "# Estimation of camera image\n",
    "est_field1_t = complex_matmul(est_T1_t, SLM_input_t)\n",
    "est_shg_exc_t = complex_multiply(est_field1_t, est_field1_t)\n",
    "#est_shg_exc_t = complex_multiply(est_field1_t, est_shg_exc_t)\n",
    "est_CAM_field_t = complex_matmul(est_T2_t, est_shg_exc_t)\n",
    "est_CAM_output_t = torch.sum(est_CAM_field_t**2, -1)\n",
    "\n",
    "# Loss computation\n",
    "loss = complex_norm2(est_CAM_output_t - CAM_output_t)\n",
    "print(loss)"
   ]
  },
  {
   "cell_type": "code",
   "execution_count": 28,
   "metadata": {},
   "outputs": [
    {
     "name": "stdout",
     "output_type": "stream",
     "text": [
      "(100, 1)\n",
      "(3, 100)\n"
     ]
    },
    {
     "ename": "ValueError",
     "evalue": "cannot reshape array of size 3 into shape (1,1)",
     "output_type": "error",
     "traceback": [
      "\u001b[1;31m---------------------------------------------------------------------------\u001b[0m",
      "\u001b[1;31mValueError\u001b[0m                                Traceback (most recent call last)",
      "\u001b[1;32m<ipython-input-28-f4f53ad42c79>\u001b[0m in \u001b[0;36m<module>\u001b[1;34m\u001b[0m\n\u001b[0;32m     13\u001b[0m \u001b[0mIout\u001b[0m \u001b[1;33m=\u001b[0m \u001b[0mnp\u001b[0m\u001b[1;33m.\u001b[0m\u001b[0mabs\u001b[0m\u001b[1;33m(\u001b[0m\u001b[0mEout\u001b[0m\u001b[1;33m)\u001b[0m \u001b[1;33m**\u001b[0m \u001b[1;36m2\u001b[0m\u001b[1;33m\u001b[0m\u001b[1;33m\u001b[0m\u001b[0m\n\u001b[0;32m     14\u001b[0m \u001b[1;33m\u001b[0m\u001b[0m\n\u001b[1;32m---> 15\u001b[1;33m \u001b[0mshowTensor\u001b[0m\u001b[1;33m(\u001b[0m\u001b[0mnp\u001b[0m\u001b[1;33m.\u001b[0m\u001b[0mreshape\u001b[0m\u001b[1;33m(\u001b[0m \u001b[0mIout\u001b[0m \u001b[1;33m,\u001b[0m \u001b[1;33m(\u001b[0m\u001b[0mint\u001b[0m\u001b[1;33m(\u001b[0m\u001b[0mnp\u001b[0m\u001b[1;33m.\u001b[0m\u001b[0msqrt\u001b[0m\u001b[1;33m(\u001b[0m\u001b[0mNfluo\u001b[0m\u001b[1;33m)\u001b[0m\u001b[1;33m)\u001b[0m\u001b[1;33m,\u001b[0m \u001b[0mint\u001b[0m\u001b[1;33m(\u001b[0m\u001b[0mnp\u001b[0m\u001b[1;33m.\u001b[0m\u001b[0msqrt\u001b[0m\u001b[1;33m(\u001b[0m\u001b[0mNfluo\u001b[0m\u001b[1;33m)\u001b[0m\u001b[1;33m)\u001b[0m\u001b[1;33m)\u001b[0m\u001b[1;33m)\u001b[0m\u001b[1;33m,\u001b[0m \u001b[1;36m111\u001b[0m\u001b[1;33m)\u001b[0m\u001b[1;33m\u001b[0m\u001b[1;33m\u001b[0m\u001b[0m\n\u001b[0m\u001b[0;32m     16\u001b[0m \u001b[1;33m\u001b[0m\u001b[0m\n\u001b[0;32m     17\u001b[0m \u001b[0msbr\u001b[0m \u001b[1;33m=\u001b[0m \u001b[0mnp\u001b[0m\u001b[1;33m.\u001b[0m\u001b[0mzeros\u001b[0m\u001b[1;33m(\u001b[0m\u001b[1;33m(\u001b[0m\u001b[0mNfluo\u001b[0m \u001b[1;33m,\u001b[0m \u001b[1;36m1\u001b[0m\u001b[1;33m)\u001b[0m\u001b[1;33m)\u001b[0m\u001b[1;33m\u001b[0m\u001b[1;33m\u001b[0m\u001b[0m\n",
      "\u001b[1;32m<__array_function__ internals>\u001b[0m in \u001b[0;36mreshape\u001b[1;34m(*args, **kwargs)\u001b[0m\n",
      "\u001b[1;32m~\\Anaconda3\\lib\\site-packages\\numpy\\core\\fromnumeric.py\u001b[0m in \u001b[0;36mreshape\u001b[1;34m(a, newshape, order)\u001b[0m\n\u001b[0;32m    299\u001b[0m            [5, 6]])\n\u001b[0;32m    300\u001b[0m     \"\"\"\n\u001b[1;32m--> 301\u001b[1;33m     \u001b[1;32mreturn\u001b[0m \u001b[0m_wrapfunc\u001b[0m\u001b[1;33m(\u001b[0m\u001b[0ma\u001b[0m\u001b[1;33m,\u001b[0m \u001b[1;34m'reshape'\u001b[0m\u001b[1;33m,\u001b[0m \u001b[0mnewshape\u001b[0m\u001b[1;33m,\u001b[0m \u001b[0morder\u001b[0m\u001b[1;33m=\u001b[0m\u001b[0morder\u001b[0m\u001b[1;33m)\u001b[0m\u001b[1;33m\u001b[0m\u001b[1;33m\u001b[0m\u001b[0m\n\u001b[0m\u001b[0;32m    302\u001b[0m \u001b[1;33m\u001b[0m\u001b[0m\n\u001b[0;32m    303\u001b[0m \u001b[1;33m\u001b[0m\u001b[0m\n",
      "\u001b[1;32m~\\Anaconda3\\lib\\site-packages\\numpy\\core\\fromnumeric.py\u001b[0m in \u001b[0;36m_wrapfunc\u001b[1;34m(obj, method, *args, **kwds)\u001b[0m\n\u001b[0;32m     59\u001b[0m \u001b[1;33m\u001b[0m\u001b[0m\n\u001b[0;32m     60\u001b[0m     \u001b[1;32mtry\u001b[0m\u001b[1;33m:\u001b[0m\u001b[1;33m\u001b[0m\u001b[1;33m\u001b[0m\u001b[0m\n\u001b[1;32m---> 61\u001b[1;33m         \u001b[1;32mreturn\u001b[0m \u001b[0mbound\u001b[0m\u001b[1;33m(\u001b[0m\u001b[1;33m*\u001b[0m\u001b[0margs\u001b[0m\u001b[1;33m,\u001b[0m \u001b[1;33m**\u001b[0m\u001b[0mkwds\u001b[0m\u001b[1;33m)\u001b[0m\u001b[1;33m\u001b[0m\u001b[1;33m\u001b[0m\u001b[0m\n\u001b[0m\u001b[0;32m     62\u001b[0m     \u001b[1;32mexcept\u001b[0m \u001b[0mTypeError\u001b[0m\u001b[1;33m:\u001b[0m\u001b[1;33m\u001b[0m\u001b[1;33m\u001b[0m\u001b[0m\n\u001b[0;32m     63\u001b[0m         \u001b[1;31m# A TypeError occurs if the object does have such a method in its\u001b[0m\u001b[1;33m\u001b[0m\u001b[1;33m\u001b[0m\u001b[1;33m\u001b[0m\u001b[0m\n",
      "\u001b[1;31mValueError\u001b[0m: cannot reshape array of size 3 into shape (1,1)"
     ]
    }
   ],
   "source": [
    "# Focusing\n",
    "\n",
    "Etarget = np.zeros((Nfluo , 1))\n",
    "Etarget[1,:] = 1\n",
    "r_T1 = from_complex_tensor(est_T1_t)\n",
    "r_T2 = from_complex_tensor(est_T2_t)\n",
    "Ein = r_T1.T.conj() @ Etarget\n",
    "\n",
    "print(Ein.shape)\n",
    "print(T1.shape)\n",
    "\n",
    "Eout = T1 @ Ein\n",
    "Iout = np.abs(Eout) ** 2\n",
    "\n",
    "showTensor(np.reshape( Iout , (int(np.sqrt(Nfluo)), int(np.sqrt(Nfluo)))), 111)\n",
    "\n",
    "sbr = np.zeros((Nfluo , 1))\n",
    "for ii in range(Nfluo):\n",
    "    Etarget = np.zeros((Nfluo , 1))\n",
    "    Etarget[ii,:] = 1\n",
    "    r_T1 = from_complex_tensor(est_T1_t)\n",
    "    Ein = r_T1.T.conj() @ Etarget\n",
    "    Eout = T1 @ Ein\n",
    "    Iout = np.abs(Eout) ** 2\n",
    "    maxy = np.amax(Iout)\n",
    "#    print(maxy)\n",
    "    aa=np.where(Iout < maxy)\n",
    "    aa2=aa[0]\n",
    "#    print(aa2.shape)\n",
    "#    print(Iout.shape)\n",
    "#    print(Iout,Iout[aa2])\n",
    "    Iout2 = Iout[aa2]\n",
    "    bck = np.mean(Iout2)\n",
    "    sbr[ii] = maxy/bck\n",
    "    \n",
    "print(sbr)"
   ]
  },
  {
   "cell_type": "code",
   "execution_count": 89,
   "metadata": {},
   "outputs": [
    {
     "ename": "SyntaxError",
     "evalue": "invalid syntax (<ipython-input-89-e871a9d42e68>, line 23)",
     "output_type": "error",
     "traceback": [
      "\u001b[1;36m  File \u001b[1;32m\"<ipython-input-89-e871a9d42e68>\"\u001b[1;36m, line \u001b[1;32m23\u001b[0m\n\u001b[1;33m    print colored('cc2_mean = ', cc2_mean, attrs=['bold'])\u001b[0m\n\u001b[1;37m                ^\u001b[0m\n\u001b[1;31mSyntaxError\u001b[0m\u001b[1;31m:\u001b[0m invalid syntax\n"
     ]
    }
   ],
   "source": [
    "r_T1 = from_complex_tensor(est_T1_t)\n",
    "r_T2 = from_complex_tensor(est_T2_t)\n",
    "\n",
    "corel1 = np.zeros((Nfluo , Nfluo),dtype=float)\n",
    "corel2 = np.zeros((Nfluo , Nfluo),dtype=float)\n",
    "#corel22 = np.zeros((Nfluo , Nfluo),dtype=float)\n",
    "for tt in  np.arange(0,Nfluo,1):\n",
    "    for jj in  np.arange(0,Nfluo,1):\n",
    "        corel1[tt,jj] = np.abs(np.conj(T1[tt,:]).T @ r_T1[jj,:]) / (np.linalg.norm(T1[tt,:])*np.linalg.norm(r_T1[jj,:]))\n",
    "        corel2[tt,jj] = np.abs(np.conj(T2[:,tt]).T @ r_T2[:,jj]) / (np.linalg.norm(T2[:,tt])*np.linalg.norm(r_T2[:,jj]))\n",
    "#        corel22[tt,jj] = np.corrcoef(abs(T2[:,tt]),abs(r_T2[:,jj]))[1,0]\n",
    "\n",
    "cc1 = np.reshape( corel1 , (1, Nfluo*Nfluo))\n",
    "idex = (-cc1).argsort()[:Nfluo]\n",
    "cc1_mean = np.mean(cc1[0,idex[0,:Nfluo]])\n",
    "print('cc1_max = ', cc1[0,idex[0,:Nfluo]])\n",
    "print('cc1_mean = ', cc1_mean)\n",
    "\n",
    "cc2 = np.reshape( corel2 , (1, Nfluo*Nfluo))\n",
    "idex = (-cc2).argsort()[:Nfluo]\n",
    "cc2_mean = np.mean(cc2[0,idex[0,:Nfluo]])\n",
    "print('cc2_max = ', cc2[0,idex[0,:Nfluo]])\n",
    "print('cc2_mean = ', cc2_mean)\n",
    "\n",
    "plt.figure()   \n",
    "showTensor(corel1)\n",
    "plt.figure()\n",
    "showTensor(corel2)\n",
    "np.max(corel1)\n",
    "\n",
    "corel2 = np.zeros((Ncam , Ncam),dtype=float)\n",
    "#corel22 = np.zeros((Nfluo , Nfluo),dtype=float)\n",
    "for tt in  np.arange(0,Ncam,1):\n",
    "    for jj in  np.arange(0,Ncam,1):\n",
    "        corel2[tt,jj] = np.abs(np.conj(T2[tt,:]).T @ r_T2[jj,:]) / (np.linalg.norm(T2[tt,:])*np.linalg.norm(r_T2[jj,:]))\n",
    "#    \n",
    "    #jM = np.where(corel1[tt,:] == max(corel1[tt,:]))\n",
    "    #rT1_sh[tt,:] = np.ravel(r_T1[np.ravel(jM[0]),:])\n",
    "\n",
    "\n",
    "#for tt in  np.arange(0,Nfluo,1):  \n",
    "#        Corr_rT1 = np.abs(np.conj(T1[tt,:]).T @ rT1_sh[tt,:]) / (np.linalg.norm(T1[tt,:])*np.linalg.norm(rT1_sh[tt,:]))\n",
    "#        print(Corr_rT1)\n",
    "\n",
    "#rT2_sh = np.zeros((Ncam, Nfluo),dtype=complex)\n",
    "#corel2 = np.zeros((Nfluo , Nfluo),dtype=float)\n",
    "#for tt in  np.arange(0,Nfluo,1):\n",
    "#    for jj in  np.arange(0,Nfluo,1):\n",
    "#        corel2[tt,jj] = np.abs(np.conj(T2[:,tt]).T @ r_T2[:,jj]) / (np.linalg.norm(T2[:,tt])*np.linalg.norm(r_T2[:,jj]))\n",
    "    #jM = np.where(corel2[tt,:] == max(corel2[tt,:]))\n",
    "    #rT2_sh[:,tt] = np.ravel(r_T2[:,np.ravel(jM[0])])\n",
    "#print((np.abs(np.conj(T1[tt,:]).T @ r_T1[jj,:]) / (np.linalg.norm(T1[tt,:])*np.linalg.norm(r_T1[jj,:]))).shape)\n",
    "#print(T2[:,tt].shape)\n",
    "\n",
    "\n",
    "#for tt in  np.arange(0,Nfluo,1):  \n",
    "#        Corr_rT2 = np.abs(np.conj(T2[:,tt]).T @ rT2_sh[:,tt]) / (np.linalg.norm(T2[:,tt])*np.linalg.norm(rT2_sh[:,tt]))\n",
    "#        print(Corr_rT2)"
   ]
  },
  {
   "cell_type": "code",
   "execution_count": 1,
   "metadata": {},
   "outputs": [
    {
     "data": {
      "text/plain": [
       "0.25"
      ]
     },
     "execution_count": 1,
     "metadata": {},
     "output_type": "execute_result"
    }
   ],
   "source": [
    "2**4/64"
   ]
  },
  {
   "cell_type": "code",
   "execution_count": 2,
   "metadata": {},
   "outputs": [
    {
     "data": {
      "text/plain": [
       "16"
      ]
     },
     "execution_count": 2,
     "metadata": {},
     "output_type": "execute_result"
    }
   ],
   "source": []
  },
  {
   "cell_type": "code",
   "execution_count": null,
   "metadata": {},
   "outputs": [],
   "source": []
  }
 ],
 "metadata": {
  "kernelspec": {
   "display_name": "Python 3",
   "language": "python",
   "name": "python3"
  },
  "language_info": {
   "codemirror_mode": {
    "name": "ipython",
    "version": 3
   },
   "file_extension": ".py",
   "mimetype": "text/x-python",
   "name": "python",
   "nbconvert_exporter": "python",
   "pygments_lexer": "ipython3",
   "version": "3.8.3"
  }
 },
 "nbformat": 4,
 "nbformat_minor": 2
}
